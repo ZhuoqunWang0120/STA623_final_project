{
 "cells": [
  {
   "cell_type": "markdown",
   "metadata": {},
   "source": [
    "# STA623 Final Project"
   ]
  },
  {
   "cell_type": "code",
   "execution_count": 4,
   "metadata": {},
   "outputs": [],
   "source": [
    "import numpy as np\n",
    "from matplotlib import pyplot as plt\n",
    "import scipy.special\n",
    "import scipy.optimize"
   ]
  },
  {
   "cell_type": "code",
   "execution_count": 6,
   "metadata": {},
   "outputs": [
    {
     "name": "stdout",
     "output_type": "stream",
     "text": [
      "25.0\n"
     ]
    },
    {
     "data": {
      "image/png": "[encoded data removed]",
      "text/plain": [
       "<Figure size 432x288 with 1 Axes>"
      ]
     },
     "metadata": {
      "needs_background": "light"
     },
     "output_type": "display_data"
    }
   ],
   "source": [
    "class DGLM(object):\n",
    "    def __init__(self,m0_,C0_,Wt_,d_):\n",
    "        self.m0=m0_\n",
    "        self.c0=C0_\n",
    "        self.wt=Wt_\n",
    "        self.dtheta=d_\n",
    "        self.mt=m0_\n",
    "        self.ct=C0_\n",
    "        self.at=m0_\n",
    "        self.alphat=1\n",
    "        self.betat=1\n",
    "        self.rt=np.zeros(d_)\n",
    "    def up_at(self,Gt):\n",
    "        self.at=np.dot(Gt,self.mt)\n",
    "    def up_rt(self,Gt):\n",
    "        self.rt=np.dot(Gt.dot(self.ct),Gt.T)+self.wt\n",
    "    def solveab(self,fq):\n",
    "        sol=scipy.optimize.root(fq, np.array([1,1]), method='broyden1', tol=1e-9).x\n",
    "        #sol=scipy.optimize.broyden1(fq, np.array([1,1]), f_tol=1)\n",
    "        self.alphat=sol[0]\n",
    "        self.betat=sol[1]\n",
    "    def forecast1(self):\n",
    "        return(self.alphat/(self.alphat+self.betat))\n",
    "    def gt(self,zt):\n",
    "        return(scipy.special.digamma(self.alphat+zt)-scipy.special.digamma(self.betat+1-zt))\n",
    "    def pt(self,zt):\n",
    "        return(scipy.special.polygamma(1,self.alphat+zt)+scipy.special.polygamma(1,self.betat+1-zt))\n",
    "    def ft(self,Ft):\n",
    "        return((Ft.T).dot(self.at))\n",
    "        #return(scipy.special.digamma(self.alphat)-scipy.special.digamma(self.betat))\n",
    "    def qt(self,Ft):\n",
    "        return((Ft.T).dot(self.rt).dot(Ft))\n",
    "    def post_up_mt(self,gtn,ftn,ptn,qtn,Ft):\n",
    "        #print('g===',gtn,'f===',ftn,'p===',ptn,'q===',qtn,'F===',Ft)\n",
    "        self.mt=self.at+self.rt.dot(Ft)*(gtn-ftn)/qtn\n",
    "    def post_up_ct(self,gtn,ftn,ptn,qtn,Ft):\n",
    "        #print('here!','self.rt:',self.rt,'Ft:',Ft,'(self.rt.dot(Ft)).dot(Ft.T):',(self.rt.dot(Ft.T)))\n",
    "        self.ct=self.rt-((self.rt.dot(Ft.reshape([2,1]))).dot(Ft.reshape([1,2]))).dot(self.rt.T)*(1-ptn/qtn)/qtn\n",
    "#state vector 2d\n",
    "#initialization\n",
    "ksi_dglm=DGLM(np.array([1,0.2]),np.identity(2),np.identity(2)/2,2)\n",
    "mu_dglm=DGLM(np.array([3,4]),np.identity(2),np.identity(2)/2,2)\n",
    "G_ksi_t=np.array([[0,-0.23],[0.23,0]])#rotate pi/2\n",
    "G_mu_t=np.array([[0,-0.3],[0.3,0]])#rotate pi/2\n",
    "F_ksi_t=np.array([1,0.5])\n",
    "F_theta_t=np.array([0.3,0.4])\n",
    "W_ksi_t=np.identity(2)\n",
    "W_theta_t=np.identity(2)\n",
    "\n",
    "N=50\n",
    "\n",
    "theta0=np.array([1,2])\n",
    "ksi0=np.array([3,1])\n",
    "theta=theta0\n",
    "ksi=ksi0\n",
    "\n",
    "z=np.zeros(N)\n",
    "y=np.zeros(N)\n",
    "\n",
    "for t in range(N):\n",
    "    lam_ksi=np.dot(F_ksi_t,ksi)\n",
    "    lam_theta=np.dot(F_theta_t,theta)\n",
    "    pi=scipy.special.expit(lam_ksi)\n",
    "    mu=np.exp(lam_theta)\n",
    "    zt=np.random.binomial(1,pi)\n",
    "    z[t]=zt\n",
    "    if zt==1:\n",
    "        yt=1+np.random.poisson(mu)\n",
    "        y[t]=yt\n",
    "    #y is the output series!\n",
    "    ksi=np.dot(G_ksi_t,ksi)+np.random.multivariate_normal(np.zeros(2),W_ksi_t)\n",
    "    theta=np.dot(G_mu_t,theta)+np.random.multivariate_normal(np.zeros(2),W_theta_t)\n",
    "plt.plot(y)\n",
    "#plt.plot(y[100:299])\n",
    "#plt.plot(y[300:599])\n",
    "#plt.plot(y[600:899])\n",
    "print(np.sum(z))\n"
   ]
  },
  {
   "cell_type": "code",
   "execution_count": 7,
   "metadata": {},
   "outputs": [
    {
     "name": "stdout",
     "output_type": "stream",
     "text": [
      "1 12.063065501432032 10.649671765365932\n",
      "2 3.410610491562516 3.5866246916064544\n",
      "3 3.5070954120750812 3.5129404323514133\n",
      "4 49.63355292057256 15.202248357739421\n",
      "5 2.0177935320593456 10.718858768961393\n",
      "6 3.4156813240392085 3.612935308700167\n",
      "7 1.901654607666696e+29 7.325048892949813e+28\n",
      "8 3.486695946363271 3.523245987456969\n",
      "9 2.6390088377670605e+26 2.633563187360186e+26\n"
     ]
    },
    {
     "name": "stderr",
     "output_type": "stream",
     "text": [
      "/Users/zhuoqunwang/anaconda3/envs/tf/lib/python3.7/site-packages/scipy/optimize/nonlin.py:999: RuntimeWarning: divide by zero encountered in true_divide\n",
      "  d = v / vdot(df, v)\n"
     ]
    },
    {
     "name": "stdout",
     "output_type": "stream",
     "text": [
      "10 14.64846882809487 6.5109629263295705\n",
      "11 3.5121422803534927 3.5124743857343477\n",
      "12 3.4368877715538013 3.5852503058867398\n",
      "13 -1384.3558222792713 -18945.60130469691\n",
      "14 3.531263439964326 3.478694201860323\n",
      "15 3.2412690971829288 3.2335549397940175\n",
      "16 42.87456837303166 14.200434654662052\n",
      "17 15.352377525943254 6.306614420892993\n",
      "18 3.428357036174285 3.5985581175403043\n",
      "19 3.4481647481446593 3.573418845759655\n",
      "20 72.45824483140011 38.06385310449023\n",
      "21 -65817.75639709417 -238.27651240449237\n",
      "22 3.462460700956041 3.5627449775518865\n",
      "23 3.1115495792357017 3.0693079332734965\n",
      "24 63.7587513751455 4.117657325747777\n",
      "25 3.47691461862669 3.531026777589148\n",
      "26 1.7886268829781124e+45 3.473695287119425e+45\n",
      "27 36.829790376675746 7.5276384927147255\n",
      "28 3.5665993605735395 3.459860232755514\n",
      "29 3.381683786058517 3.650185573678578\n",
      "30 3.525334592704833 3.4846096212559066\n",
      "31 8.282472627069149e+36 2.845858602840792e+35\n",
      "32 1.7069009058767517e+33 5.672059337838055e+32\n",
      "33 3.2637555372368294 3.8085112949853013\n",
      "34 3.4262345189900305 3.603460108126807\n",
      "35 3.5404102465038174 3.4696973023676616\n",
      "36 29.591521932902694 9.118940477217752\n",
      "37 33.51004078352859 6.977323641241825\n",
      "38 3.4131577705005878 3.614104522337632\n",
      "39 3.395430070445177 3.634130363694948\n",
      "40 3.4867757051011417 3.5231631526293183\n",
      "41 2.5732973174603863e+49 1.4457038716608506e+50\n",
      "42 -68.4156108102646 12.838421154876482\n",
      "43 2.598904266483621e+31 3.521634065936573e+31\n",
      "44 -179.78006139788803 -161110.90561533388\n",
      "45 4.319944155022022 0.6659209969599484\n",
      "46 2.3795253590598477 2.348096691942852\n",
      "47 3.2570949705443737 3.7179043190496444\n",
      "48 38.66540234235441 -82.41623827120198\n",
      "49 3.4925676525886207 3.517246748979739\n"
     ]
    }
   ],
   "source": [
    "z_forecast=np.zeros(N)\n",
    "\n",
    "for t in range(1,N):\n",
    "    #update ksi\n",
    "    ##do appendix 1 in order\n",
    "    Gt=G_ksi_t\n",
    "    Ft=F_ksi_t\n",
    "    ksi_dglm.up_at(Gt)\n",
    "    ksi_dglm.up_rt(Gt)\n",
    "    #print(ksi_dglm.rt)\n",
    "    #print(ksi_dglm.ct)\n",
    "    ftnum=ksi_dglm.ft(Ft)\n",
    "    qtnum=ksi_dglm.qt(Ft)\n",
    "    def fq(ab):\n",
    "        return([scipy.special.digamma(ab[0])-scipy.special.digamma(ab[1])-ftnum,scipy.special.polygamma(1,ab[0])+scipy.special.polygamma(1,ab[1])-qtnum])\n",
    "    ksi_dglm.solveab(fq)\n",
    "    #print(t,ksi_dglm.alphat,ksi_dglm.betat)\n",
    "    z_forecast[t]=ksi_dglm.forecast1()\n",
    "    gtnum=ksi_dglm.gt(z[t])\n",
    "    ptnum=ksi_dglm.pt(z[t])\n",
    "    ##posterior update\n",
    "    ksi_dglm.post_up_mt(gtnum,ftnum,ptnum,qtnum,Ft)\n",
    "    ksi_dglm.post_up_ct(gtnum,ftnum,ptnum,qtnum,Ft)\n",
    "    #update mu if z=1\n",
    "    if z==1:\n",
    "        Gt=G\n",
    "        "
   ]
  },
  {
   "cell_type": "markdown",
   "metadata": {},
   "source": [
    "### lalal"
   ]
  },
  {
   "cell_type": "code",
   "execution_count": 14,
   "metadata": {},
   "outputs": [
    {
     "name": "stdout",
     "output_type": "stream",
     "text": [
      "26.0749032137192 25.0\n"
     ]
    },
    {
     "data": {
      "text/plain": [
       "[<matplotlib.lines.Line2D at 0x1187b2b00>]"
      ]
     },
     "execution_count": 14,
     "metadata": {},
     "output_type": "execute_result"
    },
    {
     "data": {
      "image/png": "[encoded data removed]",
      "text/plain": [
       "<Figure size 432x288 with 1 Axes>"
      ]
     },
     "metadata": {
      "needs_background": "light"
     },
     "output_type": "display_data"
    }
   ],
   "source": [
    "print(sum(z_forecast),sum(z))\n",
    "plt.plot(z)\n",
    "plt.plot(z_forecast>=0.5)"
   ]
  },
  {
   "cell_type": "code",
   "execution_count": 14,
   "metadata": {},
   "outputs": [
    {
     "name": "stdout",
     "output_type": "stream",
     "text": [
      "[nan nan]\n"
     ]
    }
   ],
   "source": [
    "print(ksi_dglm.at)\n",
    "#sol=scipy.optimize.root(fq, x0=np.array([100,100]), method='broyden1', tol=0.00000000001)\n",
    "#print(sol)\n",
    "#fq(sol.x)"
   ]
  },
  {
   "cell_type": "code",
   "execution_count": 48,
   "metadata": {},
   "outputs": [
    {
     "data": {
      "text/plain": [
       "[2.694271841258575, -0.066125]"
      ]
     },
     "execution_count": 48,
     "metadata": {},
     "output_type": "execute_result"
    }
   ],
   "source": []
  },
  {
   "cell_type": "code",
   "execution_count": 88,
   "metadata": {},
   "outputs": [
    {
     "name": "stdout",
     "output_type": "stream",
     "text": [
      "1\n",
      "2\n"
     ]
    }
   ],
   "source": [
    "for i in range(1,3):\n",
    "    print(i)"
   ]
  },
  {
   "cell_type": "code",
   "execution_count": 89,
   "metadata": {},
   "outputs": [],
   "source": [
    "a=[1,2]"
   ]
  },
  {
   "cell_type": "code",
   "execution_count": 90,
   "metadata": {},
   "outputs": [],
   "source": [
    "a.remove(1)"
   ]
  },
  {
   "cell_type": "code",
   "execution_count": 91,
   "metadata": {},
   "outputs": [
    {
     "data": {
      "text/plain": [
       "[2]"
      ]
     },
     "execution_count": 91,
     "metadata": {},
     "output_type": "execute_result"
    }
   ],
   "source": [
    "a"
   ]
  },
  {
   "cell_type": "code",
   "execution_count": 15,
   "metadata": {},
   "outputs": [],
   "source": [
    "ffqq=np.zeros(1000)\n",
    "sam=np.random.multivariate_normal(np.array([0,0]),np.identity(2)*10,1000)\n",
    "for i in range(1000):\n",
    "    ffqq[i]=np.sum(fq(sam[i]))"
   ]
  },
  {
   "cell_type": "code",
   "execution_count": 34,
   "metadata": {},
   "outputs": [
    {
     "data": {
      "image/png": "[encoded data removed]",
      "text/plain": [
       "<Figure size 432x288 with 1 Axes>"
      ]
     },
     "metadata": {
      "needs_background": "light"
     },
     "output_type": "display_data"
    }
   ],
   "source": [
    "x = np.linspace(-1, 1, 50)\n",
    "y = np.linspace(-0.5, 0.5, 40)\n",
    "X, Y = np.meshgrid(x, y)\n",
    "def tmp(x,y):\n",
    "    #print(fq([x,y]))\n",
    "    return((fq([x,y])[0])**2+(fq([x,y])[1])**2)\n",
    "    \n",
    "Z = tmp(X,Y)\n",
    "plt.contour(X, Y, Z, colors='black');\n"
   ]
  },
  {
   "cell_type": "code",
   "execution_count": null,
   "metadata": {},
   "outputs": [],
   "source": []
  }
 ],
 "metadata": {
  "kernelspec": {
   "display_name": "Python 3",
   "language": "python",
   "name": "python3"
  },
  "language_info": {
   "codemirror_mode": {
    "name": "ipython",
    "version": 3
   },
   "file_extension": ".py",
   "mimetype": "text/x-python",
   "name": "python",
   "nbconvert_exporter": "python",
   "pygments_lexer": "ipython3",
   "version": "3.7.3"
  }
 },
 "nbformat": 4,
 "nbformat_minor": 4
}
